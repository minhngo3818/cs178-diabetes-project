{
 "cells": [
  {
   "cell_type": "markdown",
   "id": "7aeb9c94-d2e4-4e6a-b17f-4081d6c436ab",
   "metadata": {},
   "source": [
    "## Project Runner"
   ]
  },
  {
   "cell_type": "markdown",
   "id": "9eea50ac-5046-4fa6-be46-ed5b7e1dbdfb",
   "metadata": {},
   "source": [
    "### I. Import packages"
   ]
  },
  {
   "cell_type": "code",
   "execution_count": null,
   "id": "b607d86a-5590-4eaf-b827-0ebe6d985478",
   "metadata": {},
   "outputs": [],
   "source": []
  },
  {
   "cell_type": "markdown",
   "id": "558d2f05-b65f-49b5-8ed3-5fd2cf88342c",
   "metadata": {},
   "source": [
    "### II. Data Cleanning and Setup"
   ]
  },
  {
   "cell_type": "code",
   "execution_count": 5,
   "id": "961e5dea-2eac-4b80-86ea-a03a3dd5c40b",
   "metadata": {
    "tags": []
   },
   "outputs": [],
   "source": [
    "# Copy code from cleaner.ipynb \n",
    "# OR import clean .csv produced from cleaner\n",
    "\n",
    "# Split data into trainning-validation-test"
   ]
  },
  {
   "cell_type": "markdown",
   "id": "01b31e3b-f42b-4935-87de-9cb82d4eaaa0",
   "metadata": {},
   "source": [
    "### III. Trainning"
   ]
  },
  {
   "cell_type": "code",
   "execution_count": 7,
   "id": "811b869b-c1b0-4e84-8ec8-c96ce1efeb81",
   "metadata": {
    "tags": []
   },
   "outputs": [],
   "source": [
    "# Implement ML classifiers\n",
    "\n",
    "# May include experiments of tunning hyperparameters"
   ]
  },
  {
   "cell_type": "markdown",
   "id": "9aa63138-f8fb-4cb0-95ab-88520a43161e",
   "metadata": {},
   "source": [
    "### IV. Testing and Graph"
   ]
  },
  {
   "cell_type": "code",
   "execution_count": null,
   "id": "8af7575c-6330-448a-bbad-f35def5f84eb",
   "metadata": {},
   "outputs": [],
   "source": []
  }
 ],
 "metadata": {
  "kernelspec": {
   "display_name": "Python 3 (ipykernel)",
   "language": "python",
   "name": "python3"
  },
  "language_info": {
   "codemirror_mode": {
    "name": "ipython",
    "version": 3
   },
   "file_extension": ".py",
   "mimetype": "text/x-python",
   "name": "python",
   "nbconvert_exporter": "python",
   "pygments_lexer": "ipython3",
   "version": "3.10.4"
  }
 },
 "nbformat": 4,
 "nbformat_minor": 5
}
