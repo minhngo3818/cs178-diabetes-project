{
  "nbformat": 4,
  "nbformat_minor": 0,
  "metadata": {
    "colab": {
      "provenance": []
    },
    "kernelspec": {
      "name": "python3",
      "display_name": "Python 3"
    },
    "language_info": {
      "name": "python"
    }
  },
  "cells": [
    {
      "cell_type": "code",
      "execution_count": null,
      "metadata": {
        "id": "_wGfaT53i5Nh"
      },
      "outputs": [],
      "source": [
        "from sklearn.model_selection import train_test_split\n",
        "import pandas as pd\n",
        "import matplotlib\n",
        "import matplotlib.pyplot as plt\n",
        "import numpy as np\n",
        "from sklearn.neighbors import KNeighborsClassifier\n",
        "from sklearn.model_selection import train_test_split\n",
        "from sklearn.metrics import classification_report, confusion_matrix, accuracy_score, roc_auc_score, precision_recall_fscore_support, roc_curve, f1_score\n",
        "from sklearn.preprocessing import StandardScaler\n",
        "from sklearn.tree import  DecisionTreeClassifier\n",
        "from sklearn.neural_network import MLPClassifier\n",
        "from sklearn.model_selection import cross_val_score, cross_validate\n",
        "from sklearn.ensemble import RandomForestClassifier, GradientBoostingClassifier\n",
        "from sklearn.linear_model import LogisticRegression\n",
        "from sklearn.inspection import DecisionBoundaryDisplay\n",
        "from sklearn.metrics import roc_auc_score\n",
        "\n",
        "csv_filename = \"/content/clean_diabetic_dataset_2nd.csv\"\n",
        "df = pd.read_csv(csv_filename)\n",
        "\n",
        "# Split the data into training, testing, and validation sets\n",
        "X_train, X_test_valid, y_train, y_test_valid = train_test_split(df.drop(\"readmitted\",axis=1), df[[\"readmitted\"]], test_size=0.4, shuffle=True, random_state=12345)\n",
        "X_test, X_valid, y_test, y_valid = train_test_split(X_test_valid, y_test_valid, test_size=0.5, shuffle=True, random_state=12345)\n",
        "\n",
        "# Convert labels to numpy arrays\n",
        "y_train = y_train.to_numpy().reshape(-1)\n",
        "y_test = y_test.to_numpy().reshape(-1)\n",
        "y_valid = y_valid.to_numpy().reshape(-1)\n",
        "\n",
        "clf = RandomForestClassifier(n_estimators=120, max_depth=17, random_state=12345)\n",
        "clf.fit(X_train, y_train)\n",
        "y_pred = clf.predict(X_test)\n",
        "accuracy = accuracy_score(y_test, y_pred)\n",
        "print(\"Accuracy:\", accuracy)\n",
        "\n",
        "n_estimators_values = [50, 100, 150, 200]\n",
        "max_depth_values = [5, 10, 15, 20]\n",
        "\n",
        "# Lists to store accuracy values\n",
        "accuracy_values = []\n",
        "\n",
        "# Iterate over hyperparameter combinations\n",
        "for n_estimators in n_estimators_values:\n",
        "    for max_depth in max_depth_values:\n",
        "        # Create an instance of the Random Forest classifier with the current hyperparameters\n",
        "        clf = RandomForestClassifier(n_estimators=n_estimators, max_depth=max_depth, random_state=12345)\n",
        "\n",
        "        # Train the Random Forest classifier using the training data\n",
        "        clf.fit(X_train, y_train)\n",
        "\n",
        "        # Make predictions on the validation set\n",
        "        y_pred = clf.predict(X_valid)\n",
        "\n",
        "        # Calculate accuracy and append to the accuracy list\n",
        "        accuracy = accuracy_score(y_valid, y_pred)\n",
        "        accuracy_values.append(accuracy)\n",
        "\n",
        "# Reshape the accuracy list into a 2D array\n",
        "accuracy_values = np.array(accuracy_values).reshape(len(n_estimators_values), len(max_depth_values))\n",
        "\n",
        "# Create a meshgrid for plotting\n",
        "N_estimators, Max_depth = np.meshgrid(n_estimators_values, max_depth_values)\n",
        "\n",
        "# Plot the accuracy values\n",
        "fig = plt.figure()\n",
        "ax = fig.add_subplot(111, projection='3d')\n",
        "ax.plot_surface(N_estimators, Max_depth, accuracy_values)\n",
        "ax.set_xlabel('n_estimators')\n",
        "ax.set_ylabel('max_depth')\n",
        "ax.set_zlabel('Accuracy')\n",
        "plt.show()"
      ]
    }
  ]
}