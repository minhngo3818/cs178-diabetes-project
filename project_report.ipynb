{
 "cells": [
  {
   "cell_type": "markdown",
   "id": "dd590de0-900d-43c8-b23c-ff08251afe7d",
   "metadata": {},
   "source": [
    "# <center> CS 178: Machine Learning &amp; Data Mining </center>\n",
    "# <center> Project Report: Diabetes </center>\n",
    "## <center> Due Date: June 12th 2023 </center>\n",
    "### <center> Group: AI Kings </center>\n",
    "### <center> Albert Mike Seto - Adel Amine Tani - Minh Tuyen Ngo </center>\n",
    "### <center> (Submission File) </center>"
   ]
  },
  {
   "cell_type": "markdown",
   "id": "9ea05890-1538-4f36-9b54-ed82a54c115b",
   "metadata": {},
   "source": [
    "### I. Summary\n",
    "\n",
    "Different machine learning models and neural networks yield different results with different characteristics. In this project, we use Diabetes from 130 US hospitals within 1999-2008 as the input dataset in order to test out several classifying methods of machine learning including k Nearest Neighbors, Logistic Regression, Random Forest, and Deep Neural Network (with pytorch). By doing that we can conclude which machine learning method is the most suitable for the diabetes dataset. "
   ]
  },
  {
   "cell_type": "markdown",
   "id": "9d7594d6-7700-4156-9d55-88a29f019a4e",
   "metadata": {},
   "source": [
    "### II. Data Description\n",
    "\n",
    "#### 1.Data variables:\n",
    "- **Encounter ID**: Unique identifier of an encounter\n",
    "- **Patient number**: Unique identifier of a patient\n",
    "- **Race Values**: Caucasian, Asian, African American, Hispanic, and other\n",
    "- **Gender Values**: male, female, and unknown/invalid\n",
    "- **Age Grouped:** in 10-year intervals [0, 10), [10, 20), …, [90, 100)\n",
    "- **Weight**: Weight in pounds\n",
    "- **Admission type**: Integer identifier corresponding to 9 distinct values, for\n",
    "example, emergency, urgent, elective, newborn, and not available\n",
    "- **Discharge disposition**: Integer identifier corresponding to 29 distinct values, for\n",
    "example, discharged to home, expired, and not available\n",
    "- **Admission source**: Integer identifier corresponding to 21 distinct values, for\n",
    "example, physician referral, emergency room, and transfer from a hospital\n",
    "- **Time in hospital**: Integer number of days between admission and discharge\n",
    "- **Payer code**: Integer identifier corresponding to 23 distinct values, for example,\n",
    "Blue Cross/Blue Shield, Medicare, and self-pay Medical\n",
    "- **Medical specialty**: Integer identifier of a specialty of the admitting physician,\n",
    "corresponding to 84 distinct values, for example, cardiology, internal medicine,\n",
    "family/general practice, and surgeon\n",
    "- **Number of lab procedures**: Number of lab tests performed during the encounter\n",
    "- **Number of procedures**: Numeric Number of procedures (other than lab tests)\n",
    "performed during the encounter\n",
    "- **Number of medications**: Number of distinct generic names administered during\n",
    "the encounter\n",
    "- **Number of outpatient**: visits Number of outpatient visits of\n",
    "the patient in the year preceding the encounter\n",
    "- **Number of emergency**: visits Number of emergency visits of\n",
    "the patient in the year preceding the encounter\n",
    "- **Number of inpatient visits**: Number of inpatient visits of the\n",
    "patient in the year preceding the encounter\n",
    "- **Number of diagnoses**: Number of diagnoses entered to the\n",
    "system 0%\n",
    "- **Glucose** serum test result Indicates the range of the result or\n",
    "if the test was not taken. Values: “>200,” “>300,” “normal,”\n",
    "and “none” if not measured\n",
    "- **A1c** test result Indicates the range of the result or if the test\n",
    "was not taken. Values: “>8” if the result was greater than 8%,\n",
    "“>7” if the result was greater than 7% but less than 8%,\n",
    "“normal” if the result was less than 7%, and “none” if not\n",
    "measured\n",
    "- **Change of medications**: Indicates if there was a change in\n",
    "diabetic medications (either dosage or generic name).\n",
    "Values: “change” and “no change”\n",
    "- **Diabetes medications**: Indicates if there was any diabetic\n",
    "medication prescribed. Values: “yes” and “no”\n",
    "- **24 features for medications Values**: “up” if the dosage was\n",
    "increased during the encounter, “down” if the dosage was\n",
    "decreased, “steady” if the dosage did not change, and “no” if\n",
    "the drug was not prescribed\n",
    "- **Readmitted Days** to inpatient readmission. Values: “<30” if the patient was readmitted in less than 30 days, “>30” if the patient was readmitted in more than 30 days, and “No” for no record of readmission"
   ]
  },
  {
   "cell_type": "markdown",
   "id": "804f8d75",
   "metadata": {},
   "source": [
    "#### 2. Visualization"
   ]
  },
  {
   "cell_type": "markdown",
   "id": "fae6204f-198e-40a3-b5dd-5c50a5361a17",
   "metadata": {},
   "source": [
    "### III. Classifiers\n",
    "\n",
    "// Fill in the blank"
   ]
  },
  {
   "cell_type": "markdown",
   "id": "e8e0a3dd-50a6-4736-b8e2-578fc1a2f0ee",
   "metadata": {},
   "source": [
    "### IV. Experimental Setup\n",
    "\n",
    "// Fill in the blank"
   ]
  },
  {
   "cell_type": "markdown",
   "id": "cb22e92e-a77d-4983-a3df-d8133fd973ab",
   "metadata": {},
   "source": [
    "### V. Experimental Results\n",
    "\n",
    "// Fill in the blank"
   ]
  },
  {
   "cell_type": "markdown",
   "id": "aa976157-04d0-4d4a-bbb4-5005918fd98a",
   "metadata": {},
   "source": [
    "### VI. Insights\n",
    "\n",
    "// Fill in the blank"
   ]
  },
  {
   "cell_type": "markdown",
   "id": "bdc5fa56-ef35-4cc2-be75-3da314bb0740",
   "metadata": {},
   "source": [
    "### VII. Contributions\n",
    "- Alber Seto:\n",
    "\n",
    "- Adel Tani\n",
    "\n",
    "- Minh Ngo: clean and analyze dataset, work with kNN and logistic regression.\n",
    "    \n"
   ]
  }
 ],
 "metadata": {
  "kernelspec": {
   "display_name": "Python 3 (ipykernel)",
   "language": "python",
   "name": "python3"
  },
  "language_info": {
   "codemirror_mode": {
    "name": "ipython",
    "version": 3
   },
   "file_extension": ".py",
   "mimetype": "text/x-python",
   "name": "python",
   "nbconvert_exporter": "python",
   "pygments_lexer": "ipython3",
   "version": "3.10.9"
  }
 },
 "nbformat": 4,
 "nbformat_minor": 5
}
