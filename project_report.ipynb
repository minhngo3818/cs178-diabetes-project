{
 "cells": [
  {
   "cell_type": "markdown",
   "id": "dd590de0-900d-43c8-b23c-ff08251afe7d",
   "metadata": {},
   "source": [
    "# <center> CS 178: Machine Learning &amp; Data Mining </center>\n",
    "# <center> Dataset: Diabetes From 130 US Hospitals within 1999-2008 </center>\n",
    "## <center> Due Date: June 12th 2023 </center>\n",
    "### <center> Group: AI Kings </center>\n",
    "### <center> Albert Mike Seto - Adel Amine Tani - Minh Tuyen Ngo </center>\n",
    "### <center> (Submission File) </center>"
   ]
  },
  {
   "cell_type": "markdown",
   "id": "9ea05890-1538-4f36-9b54-ed82a54c115b",
   "metadata": {},
   "source": [
    "### I. Summary\n",
    "\n",
    "Different machine learning models and neural networks yield different results with different characteristics. In this project, we use Diabetes from 130 US hospitals within 1999-2008 as the input dataset in order to test out several classifying methods of machine learning including k Nearest Neighbors, Logistic Regression, Random Forest, and Feed-Forward Neural Network (with pytorch). We conducted experiments to evaluate the performance of each method and draw conclusions about their strengths and weaknesses.\n",
    "[conclusions]"
   ]
  },
  {
   "cell_type": "markdown",
   "id": "9d7594d6-7700-4156-9d55-88a29f019a4e",
   "metadata": {},
   "source": [
    "### II. Data Description\n",
    "\n",
    "#### 1. Variables:\n",
    "- **Encounter ID**: Unique identifier of an encounter\n",
    "- **Patient number**: Unique identifier of a patient\n",
    "- **Race Values**: Caucasian, Asian, African American, Hispanic, and other\n",
    "- **Gender Values**: male, female, and unknown/invalid\n",
    "- **Age Grouped:** in 10-year intervals [0, 10), [10, 20), …, [90, 100)\n",
    "- **Weight**: Weight in pounds\n",
    "- **Admission type**: Integer identifier corresponding to 9 distinct values, for\n",
    "example, emergency, urgent, elective, newborn, and not available\n",
    "- **Discharge disposition**: Integer identifier corresponding to 29 distinct values, for\n",
    "example, discharged to home, expired, and not available\n",
    "- **Admission source**: Integer identifier corresponding to 21 distinct values, for\n",
    "example, physician referral, emergency room, and transfer from a hospital\n",
    "- **Time in hospital**: Integer number of days between admission and discharge\n",
    "- **Payer code**: Integer identifier corresponding to 23 distinct values, for example,\n",
    "Blue Cross/Blue Shield, Medicare, and self-pay Medical\n",
    "- **Medical specialty**: Integer identifier of a specialty of the admitting physician,\n",
    "corresponding to 84 distinct values, for example, cardiology, internal medicine,\n",
    "family/general practice, and surgeon\n",
    "- **Number of lab procedures**: Number of lab tests performed during the encounter\n",
    "- **Number of procedures**: Numeric Number of procedures (other than lab tests)\n",
    "performed during the encounter\n",
    "- **Number of medications**: Number of distinct generic names administered during\n",
    "the encounter\n",
    "- **Number of outpatient**: visits Number of outpatient visits of\n",
    "the patient in the year preceding the encounter\n",
    "- **Number of emergency**: visits Number of emergency visits of\n",
    "the patient in the year preceding the encounter\n",
    "- **Number of inpatient visits**: Number of inpatient visits of the\n",
    "patient in the year preceding the encounter\n",
    "- **Number of diagnoses**: Number of diagnoses entered to the\n",
    "system 0%\n",
    "- **Glucose** serum test result Indicates the range of the result or\n",
    "if the test was not taken. Values: “>200,” “>300,” “normal,”\n",
    "and “none” if not measured\n",
    "- **A1c** test result Indicates the range of the result or if the test\n",
    "was not taken. Values: “>8” if the result was greater than 8%,\n",
    "“>7” if the result was greater than 7% but less than 8%,\n",
    "“normal” if the result was less than 7%, and “none” if not\n",
    "measured\n",
    "- **Change of medications**: Indicates if there was a change in\n",
    "diabetic medications (either dosage or generic name).\n",
    "Values: “change” and “no change”\n",
    "- **Diabetes medications**: Indicates if there was any diabetic\n",
    "medication prescribed. Values: “yes” and “no”\n",
    "- **24 features for medications Values**: “up” if the dosage was\n",
    "increased during the encounter, “down” if the dosage was\n",
    "decreased, “steady” if the dosage did not change, and “no” if\n",
    "the drug was not prescribed\n",
    "- **Readmitted Days** to inpatient readmission. Values: “<30” if the patient was readmitted in less than 30 days, “>30” if the patient was readmitted in more than 30 days, and “No” for no record of readmission"
   ]
  },
  {
<<<<<<< HEAD
=======
   "cell_type": "markdown",
   "id": "67ca7c3c-9f10-456c-90fb-38c58e2fb6f2",
   "metadata": {},
   "source": [
    "#### 2. Data Summary"
   ]
  },
  {
   "cell_type": "raw",
   "id": "8f1d93c8-fac2-4e2e-920d-7dc43c8e0bad",
   "metadata": {
    "tags": []
   },
   "source": [
    "RangeIndex: 101766 entries, 0 to 101765\n",
    "Data columns (total 50 columns):\n",
    " #   Column                    Non-Null Count   Dtype \n",
    "---  ------                    --------------   ----- \n",
    " 0   encounter_id              101766 non-null  int64 \n",
    " 1   patient_nbr               101766 non-null  int64 \n",
    " 2   race                      99493 non-null   object\n",
    " 3   gender                    101763 non-null  object\n",
    " 4   age                       101766 non-null  object\n",
    " 5   weight                    3197 non-null    object\n",
    " 6   admission_type_id         101766 non-null  int64 \n",
    " 7   discharge_disposition_id  101766 non-null  int64 \n",
    " 8   admission_source_id       101766 non-null  int64 \n",
    " 9   time_in_hospital          101766 non-null  int64 \n",
    " 10  payer_code                61510 non-null   object\n",
    " 11  medical_specialty         51817 non-null   object\n",
    " 12  num_lab_procedures        101766 non-null  int64 \n",
    " 13  num_procedures            101766 non-null  int64 \n",
    " 14  num_medications           101766 non-null  int64 \n",
    " 15  number_outpatient         101766 non-null  int64 \n",
    " 16  number_emergency          101766 non-null  int64 \n",
    " 17  number_inpatient          101766 non-null  int64 \n",
    " 18  diag_1                    101745 non-null  object\n",
    " 19  diag_2                    101408 non-null  object\n",
    " 20  diag_3                    100343 non-null  object\n",
    " 21  number_diagnoses          101766 non-null  int64 \n",
    " 22  max_glu_serum             5346 non-null    object\n",
    " 23  A1Cresult                 17018 non-null   object\n",
    " 24  metformin                 101766 non-null  object\n",
    " 25  repaglinide               101766 non-null  object\n",
    " 26  nateglinide               101766 non-null  object\n",
    " 27  chlorpropamide            101766 non-null  object\n",
    " 28  glimepiride               101766 non-null  object\n",
    " 29  acetohexamide             101766 non-null  object\n",
    " 30  glipizide                 101766 non-null  object\n",
    " 31  glyburide                 101766 non-null  object\n",
    " 32  tolbutamide               101766 non-null  object\n",
    " 33  pioglitazone              101766 non-null  object\n",
    " 34  rosiglitazone             101766 non-null  object\n",
    " 35  acarbose                  101766 non-null  object\n",
    " 36  miglitol                  101766 non-null  object\n",
    " 37  troglitazone              101766 non-null  object\n",
    " 38  tolazamide                101766 non-null  object\n",
    " 39  examide                   101766 non-null  object\n",
    " 40  citoglipton               101766 non-null  object\n",
    " 41  insulin                   101766 non-null  object\n",
    " 42  glyburide-metformin       101766 non-null  object\n",
    " 43  glipizide-metformin       101766 non-null  object\n",
    " 44  glimepiride-pioglitazone  101766 non-null  object\n",
    " 45  metformin-rosiglitazone   101766 non-null  object\n",
    " 46  metformin-pioglitazone    101766 non-null  object\n",
    " 47  change                    101766 non-null  object\n",
    " 48  diabetesMed               101766 non-null  object\n",
    " 49  readmitted                101766 non-null  object"
   ]
  },
  {
   "cell_type": "raw",
   "id": "48e051b3-9637-47e2-87bd-a8e1b87bf915",
   "metadata": {},
   "source": [
    "                             count          mean           std      min  \\\n",
    "encounter_id              101766.0  1.652016e+08  1.026403e+08  12522.0   \n",
    "patient_nbr               101766.0  5.433040e+07  3.869636e+07    135.0   \n",
    "admission_type_id         101766.0  2.024006e+00  1.445403e+00      1.0   \n",
    "discharge_disposition_id  101766.0  3.715642e+00  5.280166e+00      1.0   \n",
    "admission_source_id       101766.0  5.754437e+00  4.064081e+00      1.0   \n",
    "time_in_hospital          101766.0  4.395987e+00  2.985108e+00      1.0   \n",
    "num_lab_procedures        101766.0  4.309564e+01  1.967436e+01      1.0   \n",
    "num_procedures            101766.0  1.339730e+00  1.705807e+00      0.0   \n",
    "num_medications           101766.0  1.602184e+01  8.127566e+00      1.0   \n",
    "number_outpatient         101766.0  3.693572e-01  1.267265e+00      0.0   \n",
    "number_emergency          101766.0  1.978362e-01  9.304723e-01      0.0   \n",
    "number_inpatient          101766.0  6.355659e-01  1.262863e+00      0.0   \n",
    "number_diagnoses          101766.0  7.422607e+00  1.933600e+00      1.0   \n",
    "\n",
    "                                 25%          50%           75%          max  \n",
    "encounter_id              84961194.0  152388987.0  2.302709e+08  443867222.0  \n",
    "patient_nbr               23413221.0   45505143.0  8.754595e+07  189502619.0  \n",
    "admission_type_id                1.0          1.0  3.000000e+00          8.0  \n",
    "discharge_disposition_id         1.0          1.0  4.000000e+00         28.0  \n",
    "admission_source_id              1.0          7.0  7.000000e+00         25.0  \n",
    "time_in_hospital                 2.0          4.0  6.000000e+00         14.0  \n",
    "num_lab_procedures              31.0         44.0  5.700000e+01        132.0  \n",
    "num_procedures                   0.0          1.0  2.000000e+00          6.0  \n",
    "num_medications                 10.0         15.0  2.000000e+01         81.0  \n",
    "number_outpatient                0.0          0.0  0.000000e+00         42.0  \n",
    "number_emergency                 0.0          0.0  0.000000e+00         76.0  \n",
    "number_inpatient                 0.0          0.0  1.000000e+00         21.0  \n",
    "number_diagnoses                 6.0          8.0  9.000000e+00         16.0 "
   ]
  },
  {
>>>>>>> e1ea6120e512396c0ce068ed1dd9da18b7da945c
   "cell_type": "markdown",
   "id": "804f8d75",
   "metadata": {},
   "source": [
    "#### 3. Visualization\n",
    "\n",
    "<div style=\"display: flex; justify-content: center;\">\n",
    "  <div style=\"flex: 1; padding: 20px\">\n",
    "    <img src=\"./images/age.png\" alt=\"age\" style=\"width: 80%; height: 100%;\"/>\n",
    "  </div>\n",
    "  <div style=\"flex: 1; padding: 20px\">\n",
    "    <img src=\"./images/race.png\" alt=\"races\" style=\"width: 100%; height: 100%;\"/>\n",
    "  </div>\n",
    "</div>\n",
    "\n",
    "<h4>Numeric Features</h4>\n",
    "<div style=\"display: flex; justify-content: center\">\n",
    "  <img src=\"./images/numeric-features.png\" alt=\"numeric features\" style=\"width: 80%; height: 100%;\"/>\n",
    "</div>\n",
    "\n",
    "<h4>Drugs vs Number of Readmitted Patients</h4>\n",
    "<div style=\"display: flex; justify-content: center\">\n",
    "  <img src=\"./images/drugs.png\" alt=\"drugs\" style=\"width: 80%; height: 100%;\"/>\n",
    "</div>\n",
    "\n",
    "<h4>Number of Readmitted and Non-readmitted Patients</h4>\n",
    "<div style=\"display: flex; justify-content: center;\">\n",
    "  <img src=\"./images/readmitted-no.png\" alt=\"readmission\" style=\"width: 50%; height: 50%;\"/>\n",
    "</div>\n",
    "\n"
   ]
  },
  {
   "cell_type": "markdown",
   "id": "50c25ae4-1d7c-42c2-a11f-dc614daf4dc2",
   "metadata": {},
   "source": [
    "#### 4. Training dataset"
   ]
  },
  {
   "cell_type": "raw",
   "id": "b9763f29-ee25-496f-9c88-6624374f5e3e",
   "metadata": {},
   "source": [
    "Index: 70441 entries, 0 to 101732\n",
    "Data columns (total 27 columns):\n",
    " #   Column                    Non-Null Count  Dtype  \n",
    "---  ------                    --------------  -----  \n",
    " 0   race                      70441 non-null  int32  \n",
    " 1   gender                    70441 non-null  int32  \n",
    " 2   age                       70441 non-null  float64\n",
    " 3   admission_type_id         70441 non-null  int64  \n",
    " 4   discharge_disposition_id  70441 non-null  int64  \n",
    " 5   admission_source_id       70441 non-null  int64  \n",
    " 6   time_in_hospital          70441 non-null  float64\n",
    " 7   num_lab_procedures        70441 non-null  float64\n",
    " 8   num_procedures            70441 non-null  float64\n",
    " 9   num_medications           70441 non-null  float64\n",
    " 10  diag_1                    70441 non-null  int32  \n",
    " 11  diag_2                    70441 non-null  int32  \n",
    " 12  diag_3                    70441 non-null  int32  \n",
    " 13  number_diagnoses          70441 non-null  float64\n",
    " 14  max_glu_serum             70441 non-null  int64  \n",
    " 15  A1Cresult                 70441 non-null  int64  \n",
    " 16  metformin                 70441 non-null  int64  \n",
    " 17  glimepiride               70441 non-null  int64  \n",
    " 18  glipizide                 70441 non-null  int64  \n",
    " 19  glyburide                 70441 non-null  int64  \n",
    " 20  pioglitazone              70441 non-null  int64  \n",
    " 21  rosiglitazone             70441 non-null  int64  \n",
    " 22  insulin                   70441 non-null  int64  \n",
    " 23  change                    70441 non-null  int64  \n",
    " 24  diabetesMed               70441 non-null  int64  \n",
    " 25  readmitted                70441 non-null  int64  \n",
    " 26  service_utilization       70441 non-null  float64\n"
   ]
  },
  {
   "cell_type": "markdown",
   "id": "fae6204f-198e-40a3-b5dd-5c50a5361a17",
   "metadata": {},
   "source": [
    "### III. Classifiers\n",
    "\n",
    "- K Nearest Neighbors\n",
    "\n",
    "- Logistic Regression\n",
    "\n",
    "- Feed-forward Neural Network\n",
    "\n",
    "- Random Forest"
   ]
  },
  {
   "cell_type": "markdown",
   "id": "e8e0a3dd-50a6-4736-b8e2-578fc1a2f0ee",
   "metadata": {},
   "source": [
    "### IV. Experimental Setup\n",
    "\n",
    "// Fill in the blank"
   ]
  },
  {
   "cell_type": "markdown",
   "id": "cb22e92e-a77d-4983-a3df-d8133fd973ab",
   "metadata": {},
   "source": [
    "### V. Experimental Results\n",
    "\n",
    "// Fill in the blank"
   ]
  },
  {
   "cell_type": "markdown",
   "id": "aa976157-04d0-4d4a-bbb4-5005918fd98a",
   "metadata": {},
   "source": [
    "### VI. Insights\n",
    "\n",
    "// Fill in the blank"
   ]
  },
  {
   "cell_type": "markdown",
   "id": "bdc5fa56-ef35-4cc2-be75-3da314bb0740",
   "metadata": {},
   "source": [
    "### VII. Contributions\n",
    "- Alber Seto:\n",
    "\n",
    "- Adel Tani\n",
    "\n",
    "- Minh Ngo: clean and analyze dataset, work with kNN and logistic regression, project report Summary, Dataset, and Classifier\n",
    "    \n"
   ]
  }
 ],
 "metadata": {
  "kernelspec": {
   "display_name": "Python 3 (ipykernel)",
   "language": "python",
   "name": "python3"
  },
  "language_info": {
   "codemirror_mode": {
    "name": "ipython",
    "version": 3
   },
   "file_extension": ".py",
   "mimetype": "text/x-python",
   "name": "python",
   "nbconvert_exporter": "python",
   "pygments_lexer": "ipython3",
   "version": "3.10.9"
  }
 },
 "nbformat": 4,
 "nbformat_minor": 5
}
