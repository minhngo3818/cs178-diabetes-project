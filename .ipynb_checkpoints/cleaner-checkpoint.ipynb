{
 "cells": [
  {
   "cell_type": "markdown",
   "id": "ed4d6235-c180-4c96-8d3a-11763e850337",
   "metadata": {},
   "source": [
    "## This file is for data cleaning code"
   ]
  },
  {
   "cell_type": "code",
   "execution_count": null,
   "id": "7c2e3d76-845e-4c94-9096-81f59934a0c4",
   "metadata": {},
   "outputs": [],
   "source": []
  }
 ],
 "metadata": {
  "kernelspec": {
   "display_name": "Python 3 (ipykernel)",
   "language": "python",
   "name": "python3"
  },
  "language_info": {
   "codemirror_mode": {
    "name": "ipython",
    "version": 3
   },
   "file_extension": ".py",
   "mimetype": "text/x-python",
   "name": "python",
   "nbconvert_exporter": "python",
   "pygments_lexer": "ipython3",
   "version": "3.10.4"
  }
 },
 "nbformat": 4,
 "nbformat_minor": 5
}
