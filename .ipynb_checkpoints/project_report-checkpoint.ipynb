{
 "cells": [
  {
   "cell_type": "markdown",
   "id": "dd590de0-900d-43c8-b23c-ff08251afe7d",
   "metadata": {},
   "source": [
    "# <center> CS 178: Machine Learning &amp; Data Mining </center>\n",
    "# <center> Project Report: Diabetes </center>\n",
    "## <center> Due Date: June 12th 2023 </center>\n",
    "### <center> Group: AI Kings </center>\n",
    "### <center> Albert Mike Seto - Adel Amine Tani - Minh Tuyen Ngo </center>\n",
    "### <center> (Submission File) </center>"
   ]
  },
  {
   "cell_type": "markdown",
   "id": "9ea05890-1538-4f36-9b54-ed82a54c115b",
   "metadata": {},
   "source": [
    "### I. Summary\n",
    "\n",
    "// Fill in the blank"
   ]
  },
  {
   "cell_type": "markdown",
   "id": "9d7594d6-7700-4156-9d55-88a29f019a4e",
   "metadata": {},
   "source": [
    "### II. Data Description\n",
    "\n",
    "// Fill in the blank"
   ]
  },
  {
   "cell_type": "markdown",
   "id": "fae6204f-198e-40a3-b5dd-5c50a5361a17",
   "metadata": {},
   "source": [
    "### III. Classifiers\n",
    "\n",
    "// Fill in the blank"
   ]
  },
  {
   "cell_type": "markdown",
   "id": "e8e0a3dd-50a6-4736-b8e2-578fc1a2f0ee",
   "metadata": {},
   "source": [
    "### IV. Experimental Setup\n",
    "\n",
    "// Fill in the blank"
   ]
  },
  {
   "cell_type": "markdown",
   "id": "cb22e92e-a77d-4983-a3df-d8133fd973ab",
   "metadata": {},
   "source": [
    "### V. Experimental Results\n",
    "\n",
    "// Fill in the blank"
   ]
  },
  {
   "cell_type": "markdown",
   "id": "aa976157-04d0-4d4a-bbb4-5005918fd98a",
   "metadata": {},
   "source": [
    "### VI. Insights\n",
    "\n",
    "// Fill in the blank"
   ]
  },
  {
   "cell_type": "markdown",
   "id": "bdc5fa56-ef35-4cc2-be75-3da314bb0740",
   "metadata": {},
   "source": [
    "### VII. Contributions\n",
    "- Alber Seto:\n",
    "\n",
    "- Adel Tani\n",
    "\n",
    "- Minh Ngo\n",
    "    \n"
   ]
  }
 ],
 "metadata": {
  "kernelspec": {
   "display_name": "Python 3 (ipykernel)",
   "language": "python",
   "name": "python3"
  },
  "language_info": {
   "codemirror_mode": {
    "name": "ipython",
    "version": 3
   },
   "file_extension": ".py",
   "mimetype": "text/x-python",
   "name": "python",
   "nbconvert_exporter": "python",
   "pygments_lexer": "ipython3",
   "version": "3.10.4"
  }
 },
 "nbformat": 4,
 "nbformat_minor": 5
}
